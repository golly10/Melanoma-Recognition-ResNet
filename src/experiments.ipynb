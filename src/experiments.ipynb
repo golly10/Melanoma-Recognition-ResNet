{
 "cells": [
  {
   "cell_type": "markdown",
   "metadata": {},
   "source": [
    "# Libraries"
   ]
  },
  {
   "cell_type": "code",
   "execution_count": null,
   "metadata": {},
   "outputs": [],
   "source": [
    "import os \n",
    "\n",
    "os.environ[\"CUDA_VISIBLE_DEVICES\"] = str(0);\n",
    "\n",
    "import tensorflow as tf\n",
    "import numpy as np\n",
    "import pandas as pd\n",
    "import json\n",
    "import h5py\n",
    "\n",
    "import cv2\n",
    "\n",
    "from tqdm import tqdm\n",
    "\n",
    "import matplotlib.pyplot as plt\n",
    "import matplotlib.image as mpimg\n",
    "\n",
    "from keras.callbacks import EarlyStopping, TensorBoard\n",
    "\n",
    "\n",
    "from sklearn.model_selection import train_test_split"
   ]
  },
  {
   "cell_type": "markdown",
   "metadata": {},
   "source": [
    "# Functions to read and get the mask of the data"
   ]
  },
  {
   "cell_type": "code",
   "execution_count": null,
   "metadata": {},
   "outputs": [],
   "source": [
    "string_h5py = h5py.special_dtype(vlen=str)\n",
    "\n",
    "def createH5PYImages():\n",
    "    files = []\n",
    "    with h5py.File(\"../data/dataset.hdf5\", \"w\") as hdf:\n",
    "        benign_group = hdf.create_group(\"benign_images\")\n",
    "        malignant_group = hdf.create_group(\"malignant_images\")\n",
    "        \n",
    "        for r, d, f in os.walk(path):\n",
    "            for file in tqdm(f):\n",
    "                if '.json' in file:\n",
    "                    paths = os.path.join(r,file)\n",
    "                    with open(paths) as json_file:\n",
    "                        data_json = json.load(json_file)\n",
    "                        if data_json[\"meta\"][\"clinical\"][\"benign_malignant\"] == \"malignant\":\n",
    "                            data = image.load_img(paths[:-4] + \"jpg\", target_size=(500,500))\n",
    "                            malignant_group.create_dataset(file[:-4]+\"jpg\", data=data)\n",
    "                        else:\n",
    "                            data = image.load_img(paths[:-4] + \"jpg\", target_size=(500,500))\n",
    "                            \n",
    "                            benign_group.create_dataset(file[:-4]+\"jpg\", data=data) \n",
    "                            \n",
    "                            \n",
    "def createMaskedDB(benign_images, malignant_images):\n",
    "    with h5py.File(\"../data/dataset.hdf5\", \"r+\") as hdf:\n",
    "        benign_group = hdf.create_group(\"benign_masked\")\n",
    "        malignant_group = hdf.create_group(\"malignant_masked\")\n",
    "        \n",
    "        for i in tqdm(range(0, len(benign_images))):\n",
    "            benign_group.create_dataset(\"benign_\"+str(i), data = benign_images[i])\n",
    "        \n",
    "        for i in tqdm(range(0, len(malignant_images))):\n",
    "            malignant_group.create_dataset(\"malignant_\"+str(i), data = malignant_images[i])\n",
    "            \n",
    "\n",
    "def applyMask(mask, images):\n",
    "    images_masked = []\n",
    "    for i in range(0, len(images)):\n",
    "        result = images[i].copy()\n",
    "        result[mask[i] != 0] = (0,0,0)\n",
    "        images_masked.append(result)\n",
    "    return images_masked\n",
    "\n",
    "\n",
    "\n",
    "def getMask(images_list):\n",
    "    images_thresholded = []\n",
    "    for i in range(0, len(images_list)):\n",
    "        image_gray = cv2.cvtColor(images_list[i], cv2.COLOR_BGR2GRAY)\n",
    "        image = cv2.medianBlur(image_gray, 5)\n",
    "        ret, th1 = cv2.threshold(image, 127, 255, cv2.THRESH_BINARY + cv2.THRESH_OTSU)\n",
    "        images_thresholded.append(th1)\n",
    "    return images_thresholded\n",
    "           \n",
    "def readImages():\n",
    "    files = []\n",
    "    malignant_images = []\n",
    "    benign_images = []\n",
    "    for r, d, f in os.walk(path):\n",
    "        for file in tqdm(f):\n",
    "            if '.json' in file:\n",
    "                paths = os.path.join(r,file)\n",
    "                with open(paths) as json_file:\n",
    "                    data_json = json.load(json_file)\n",
    "                    if data_json[\"meta\"][\"clinical\"][\"benign_malignant\"] == \"malignant\":\n",
    "                        img = mpimg.imread(paths[:-4] + \"jpg\")\n",
    "                        img = cv2.resize(img, (500,500))\n",
    "                        malignant_images.append(img)\n",
    "                    else:\n",
    "                        img = mpimg.imread(paths[:-4] + \"jpg\")\n",
    "                        img = cv2.resize(img, (500,500))\n",
    "                        benign_images.append(img)\n",
    "    return malignant_images, benign_images"
   ]
  },
  {
   "cell_type": "markdown",
   "metadata": {},
   "source": [
    "# Get images from h5py file"
   ]
  },
  {
   "cell_type": "code",
   "execution_count": null,
   "metadata": {
    "scrolled": true
   },
   "outputs": [],
   "source": [
    "path = 'data/'\n",
    "malignant_images, benign_images = readImages()"
   ]
  },
  {
   "cell_type": "markdown",
   "metadata": {},
   "source": [
    "# Experiments for getting the masks"
   ]
  },
  {
   "cell_type": "code",
   "execution_count": null,
   "metadata": {},
   "outputs": [],
   "source": [
    "def createMask(image, criteria, K, kernel):\n",
    "    image_first = cv2.cvtColor(image, cv2.COLOR_BGR2GRAY)\n",
    "    image_dilated = cv2.dilate(image_first, kernel, iterations=2)\n",
    "\n",
    "    image = image_dilated.reshape((-1, 1))\n",
    "    image = np.float32(image)\n",
    "    ret,label,center=cv2.kmeans(image,K,None,criteria,10,cv2.KMEANS_RANDOM_CENTERS)\n",
    "\n",
    "    center = np.uint8(center)\n",
    "    res = center[label.flatten()]\n",
    "    res2 = res.reshape((image_first.shape))\n",
    "    \n",
    "    ret, th1 = cv2.threshold(res2, 127, 255, cv2.THRESH_BINARY + cv2.THRESH_OTSU)\n",
    "    \n",
    "    return th1"
   ]
  },
  {
   "cell_type": "code",
   "execution_count": null,
   "metadata": {},
   "outputs": [],
   "source": [
    "kernel = np.ones((5,5), np.uint8)\n",
    "criteria = (cv2.TERM_CRITERIA_EPS + cv2.TERM_CRITERIA_MAX_ITER, 10, 1.0)\n",
    "K = 2\n",
    "i=1\n",
    "result = []\n",
    "for image in tqdm(malignant_images):\n",
    "    result.append(createMask(image, criteria, K, kernel))\n",
    "\n",
    "masked_images = applyMask(result, malignant_images)\n",
    "for i in range(0, len(masked_images)):\n",
    "    plt.imshow(masked_images[i])\n",
    "    plt.show()\n",
    "    plt.imshow(malignant_images[i])\n",
    "    plt.show()"
   ]
  },
  {
   "cell_type": "code",
   "execution_count": null,
   "metadata": {},
   "outputs": [],
   "source": []
  },
  {
   "cell_type": "code",
   "execution_count": null,
   "metadata": {},
   "outputs": [],
   "source": []
  }
 ],
 "metadata": {
  "kernelspec": {
   "display_name": "Python 3",
   "language": "python",
   "name": "python3"
  },
  "language_info": {
   "codemirror_mode": {
    "name": "ipython",
    "version": 3
   },
   "file_extension": ".py",
   "mimetype": "text/x-python",
   "name": "python",
   "nbconvert_exporter": "python",
   "pygments_lexer": "ipython3",
   "version": "3.7.4"
  }
 },
 "nbformat": 4,
 "nbformat_minor": 2
}
